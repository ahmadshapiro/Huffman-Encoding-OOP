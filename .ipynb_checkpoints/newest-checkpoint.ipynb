{
 "cells": [
  {
   "cell_type": "code",
   "execution_count": 93,
   "metadata": {},
   "outputs": [],
   "source": [
    "num=5"
   ]
  },
  {
   "cell_type": "code",
   "execution_count": 102,
   "metadata": {},
   "outputs": [],
   "source": [
    "fix_pad=lambda x :\"0\"+x.replace(\"0b\",\"\") if len(x.replace(\"0b\",\"\")) < 3 else x.replace(\"0b\",\"\")"
   ]
  },
  {
   "cell_type": "code",
   "execution_count": 103,
   "metadata": {},
   "outputs": [
    {
     "data": {
      "text/plain": [
       "'101'"
      ]
     },
     "execution_count": 103,
     "metadata": {},
     "output_type": "execute_result"
    }
   ],
   "source": [
    "k(bin(5))"
   ]
  },
  {
   "cell_type": "code",
   "execution_count": 415,
   "metadata": {},
   "outputs": [
    {
     "data": {
      "text/plain": [
       "'0'"
      ]
     },
     "execution_count": 415,
     "metadata": {},
     "output_type": "execute_result"
    }
   ],
   "source": [
    "str(int(my_huffman.file.isFile))"
   ]
  },
  {
   "cell_type": "code",
   "execution_count": 577,
   "metadata": {},
   "outputs": [],
   "source": [
    "class Huffman_Encoding:\n",
    "    \n",
    "    def __init__(self,desired_name):\n",
    "        self.freq=None\n",
    "        self.content=None\n",
    "        self.encodings={}\n",
    "        self.reverseENC=None\n",
    "        self.file=None\n",
    "        self.root=None\n",
    "        self.pad_num=None\n",
    "        self.desired_name=desired_name\n",
    "\n",
    "    def compress(self,file_path):\n",
    "        import pickle\n",
    "        self.file = My_File(file_path)\n",
    "        self.content,self.freq=self.file.operate()\n",
    "        self.makeEncodings(self.freq)\n",
    "        self.reverseENC=dict(((x[1],x[0]) for x in self.encodings.items()))\n",
    "        encoded_message=\"\"\n",
    "        for chunck in self.content.split(\"/EOF/\"):\n",
    "            if len(chunck) > 1:\n",
    "                for char in chunck :\n",
    "                    encoded_message = encoded_message + self.encodings[char]\n",
    "                encoded_message=encoded_message+self.encodings[\"/EOF/\"]\n",
    "        \n",
    "        encoded_message=encoded_message+self.encodings[\"/EOF/\"]\n",
    "        \n",
    "        self.pad_num,encoded_message=self.zero_pad(encoded_message)\n",
    "        \n",
    "        fix_pad=lambda x :\"0\"+x.replace(\"0b\",\"\") if len(x.replace(\"0b\",\"\")) < 3 else x.replace(\"0b\",\"\")\n",
    "        info_byte=fix_pad(bin(self.pad_num))+str(int(my_huffman.file.isFile))\n",
    "        _,info_byte=self.zero_pad(info_byte)\n",
    "\n",
    "        with open(self.desired_name+\".bin\",\"wb\") as file:\n",
    "            file.write(self.bitToByte(info_byte+encoded_message))\n",
    "            file.write(pickle.dumps(self.reverseENC))\n",
    "        \n",
    "        \n",
    "    def zero_pad(self,stream):\n",
    "        pad_num=8 - (len(stream) % 8)\n",
    "        stream=stream+(pad_num*'0')\n",
    "        return pad_num , stream\n",
    "        \n",
    "    \n",
    "    def decompress(self,compressedfile):\n",
    "        \n",
    "        #returns uncompressed file \n",
    "        return None\n",
    "        \n",
    "    def makeMinheap(self,freq):\n",
    "        import heapq\n",
    "        min_heap=[]\n",
    "        heapq.heapify(min_heap)\n",
    "        for item in freq.items():\n",
    "            heapq.heappush(min_heap,Node(item[0],item[1]))\n",
    "        return min_heap\n",
    "    \n",
    "    def makeEncodings(self,freq):\n",
    "        import heapq\n",
    "        self.root=self.makeMinheap(freq)\n",
    "        while(len(self.root)>1):\n",
    "            nodeA=heapq.heappop(self.root)\n",
    "            nodeB=heapq.heappop(self.root)\n",
    "            parentNode=Node(key=None,freq=nodeA.freq+nodeB.freq)\n",
    "            parentNode.childrenkeys= list(set(nodeA.childrenkeys+nodeB.childrenkeys))\n",
    "            if nodeA<nodeB:\n",
    "                nodeA.isRightNode=\"0\"\n",
    "                self.append_value_dict(nodeA.childrenkeys,nodeA.isRightNode)\n",
    "                nodeB.isRightNode=\"1\"\n",
    "                self.append_value_dict(nodeB.childrenkeys,nodeB.isRightNode)\n",
    "                parentNode.left=nodeA\n",
    "                parentNode.right=nodeB\n",
    "            else:\n",
    "                nodeA.isRightNode=\"1\"\n",
    "                self.append_value_dict(nodeA.childrenkeys,nodeA.isRightNode)\n",
    "                nodeB.isRightNode=\"0\"\n",
    "                self.append_value_dict(nodeB.childrenkeys,nodeB.isRightNode)\n",
    "                parentNode.left=nodeA\n",
    "                parentNode.right=nodeB\n",
    "            nodeA.parent=nodeB.parent=parentNode\n",
    "            heapq.heappush(self.root,parentNode)\n",
    "        parentNode.isRightNode=None\n",
    "        self.root=self.root[0]\n",
    "    \n",
    "    def append_value_dict(self,keys,ValuetoBeAdded):\n",
    "        if type(keys) == list:\n",
    "            for key in keys :\n",
    "                self.encodings[key]=ValuetoBeAdded+self.encodings.get(key,\"\")\n",
    "        else :\n",
    "            self.encodings[key]=ValuetoBeAdded+self.encodings.get(key,\"\")\n",
    "    \n",
    "    def ByteToBit(self,byteString):\n",
    "        \n",
    "        return ''.join(format(byte, '08b') for byte in byteString)\n",
    "    \n",
    "    def bitToByte(self,bitString):\n",
    "        return int(bitString, 2).to_bytes(len(bitString) // 8,byteorder='big')"
   ]
  },
  {
   "cell_type": "code",
   "execution_count": 578,
   "metadata": {},
   "outputs": [],
   "source": [
    "class Node():\n",
    "    \n",
    "    def __init__ (self,key,freq):\n",
    "        self.freq=freq\n",
    "        self.key=key\n",
    "        self.parent=None\n",
    "        self.left=None\n",
    "        self.right=None\n",
    "        self.isRightNode=\"\"\n",
    "        self.childrenkeys=[key]\n",
    "        \n",
    "    def __lt__ (self,another):\n",
    "        \n",
    "        return self.freq <= another.freq\n",
    "    \n",
    "    def __str__(self) :\n",
    "        \n",
    "        return f\"Node with key =  {self.key} , freq = {self.freq} \" "
   ]
  },
  {
   "cell_type": "code",
   "execution_count": 579,
   "metadata": {},
   "outputs": [],
   "source": [
    "class My_File():\n",
    "   \n",
    "    #reads file or folder(iter and folder delimeter \"/EOF/\") and returns string and frequency dictionary\n",
    "\n",
    "    def __init__(self,path):\n",
    "        try:\n",
    "            \n",
    "            import os\n",
    "            self.filename=path\n",
    "            self.operating_path=os.path.join(os.getcwd(),self.filename)\n",
    "            self.isFile=os.path.isfile(self.operating_path)\n",
    "            if self.isFile:\n",
    "                self.FilesNames=path\n",
    "            else :\n",
    "                self.FilesNames =os.listdir(self.operating_path)\n",
    "                self.FilesNames.insert(0,self.filename)\n",
    "        except:\n",
    "            raise \"Target Not Found\"\n",
    "        \n",
    "        \n",
    "    def operate(self):\n",
    "        import os\n",
    "        if self.isFile:\n",
    "            content,frequency = self.read_file(self.operating_path,self.isFile)\n",
    "            content = content+\"/EOF/\"\n",
    "            frequency[\"/EOF/\"]=frequency.get(\"/EOF/\",0)+1\n",
    "            return content,frequency\n",
    "        \n",
    "        else :\n",
    "            contents=[]\n",
    "            frequencies=[]\n",
    "            \n",
    "            for file in self.FilesNames[1:] :\n",
    "                content , freq = self.read_file(os.path.join(self.operating_path,file),self.isFile)\n",
    "                contents.append(content)\n",
    "                frequencies.append(freq)\n",
    "            content,frequency = self.combine(contents,frequencies) #to handle the dict issue at the end \n",
    "            content = content+\"/EOF/\"\n",
    "            frequency[\"/EOF/\"]=frequency.get(\"/EOF/\",0)+1\n",
    "            return content,frequency\n",
    "                \n",
    "    def read_file(self,path,isFile):\n",
    "        \n",
    "        with open(path,\"r\") as file:\n",
    "            \n",
    "            content=file.read()\n",
    "            freq_dict={}\n",
    "            \n",
    "            for char in content:\n",
    "                freq_dict[char]=freq_dict.get(char,0)+1\n",
    "                \n",
    "            for char in path.split(\"/\")[-1]:\n",
    "                freq_dict[char]=freq_dict.get(char,0)+1\n",
    "                \n",
    "            if isFile:\n",
    "                content=self.FilesNames+\"/EOF/\"+content\n",
    "                freq_dict[\"/EOF/\"]=freq_dict.get(\"/EOF/\",0)+1\n",
    "                \n",
    "            content=content+\"/EOF/\"\n",
    "            freq_dict[\"/EOF/\"]=freq_dict.get(\"/EOF/\",0)+1\n",
    "            \n",
    "        return content,freq_dict\n",
    "    \n",
    "    def combine(self,contents,frequencies):\n",
    "        from collections import Counter\n",
    "        content= ''.join(contents)\n",
    "        content=\"/EOF/\".join(self.FilesNames)+\"/EOF/\"+content\n",
    "        frequency={}\n",
    "        for freq in frequencies:\n",
    "            frequency = Counter(frequency) + Counter(freq)\n",
    "        frequency=dict(frequency)\n",
    "        frequency[\"/EOF/\"]=frequency.get(\"/EOF/\",0)+len(self.FilesNames)\n",
    "        return content,frequency"
   ]
  },
  {
   "cell_type": "code",
   "execution_count": 599,
   "metadata": {},
   "outputs": [],
   "source": [
    "my_huffman=Huffman_Encoding(desired_name=\"samplemarven\")"
   ]
  },
  {
   "cell_type": "code",
   "execution_count": 598,
   "metadata": {},
   "outputs": [],
   "source": [
    "import timeit"
   ]
  },
  {
   "cell_type": "code",
   "execution_count": 600,
   "metadata": {
    "scrolled": false
   },
   "outputs": [
    {
     "name": "stdout",
     "output_type": "stream",
     "text": [
      "Time taken 2.7199738709969097\n"
     ]
    }
   ],
   "source": [
    "now = timeit.default_timer()\n",
    "my_huffman.compress(file_path=\"sample.txt\")\n",
    "print(\"Time taken {}\".format(timeit.default_timer()-now))"
   ]
  },
  {
   "cell_type": "code",
   "execution_count": 572,
   "metadata": {},
   "outputs": [],
   "source": [
    "with open(\"Ahmad.bin\",\"rb\") as file:\n",
    "    bitemessage=ByteToBit(file.read())\n",
    "    info_bit=bitemessage[:8]\n",
    "    padding=int(info_bit[:3],2)\n",
    "    bitemessage=bitemessage[8:-padding]"
   ]
  },
  {
   "cell_type": "code",
   "execution_count": 573,
   "metadata": {
    "scrolled": true
   },
   "outputs": [
    {
     "name": "stdout",
     "output_type": "stream",
     "text": [
      "CPU times: user 5.71 s, sys: 3.62 ms, total: 5.72 s\n",
      "Wall time: 5.72 s\n"
     ]
    }
   ],
   "source": [
    "%%time\n",
    "start=0\n",
    "end=1\n",
    "decodemess=\"\"\n",
    "while end <= len(bitemessage):\n",
    "    try:\n",
    "        char=my_huffman.reverseENC[bitemessage[start:end]]\n",
    "        decodemess=decodemess+char\n",
    "        start=end\n",
    "        end=end+1\n",
    "        \n",
    "    except:\n",
    "        end+=1\n"
   ]
  },
  {
   "cell_type": "code",
   "execution_count": 565,
   "metadata": {},
   "outputs": [
    {
     "data": {
      "text/plain": [
       "(9166619, 9166620)"
      ]
     },
     "execution_count": 565,
     "metadata": {},
     "output_type": "execute_result"
    }
   ],
   "source": [
    "len(bitemessage),end"
   ]
  },
  {
   "cell_type": "code",
   "execution_count": 574,
   "metadata": {},
   "outputs": [
    {
     "data": {
      "text/plain": [
       "True"
      ]
     },
     "execution_count": 574,
     "metadata": {},
     "output_type": "execute_result"
    }
   ],
   "source": [
    "decodemess==my_huffman.content"
   ]
  },
  {
   "cell_type": "code",
   "execution_count": 575,
   "metadata": {},
   "outputs": [
    {
     "data": {
      "text/plain": [
       "{'L': 1808,\n",
       " 'o': 69238,\n",
       " 'r': 104099,\n",
       " 'e': 203507,\n",
       " 'm': 83801,\n",
       " ' ': 319610,\n",
       " 'i': 185043,\n",
       " 'p': 41969,\n",
       " 's': 155998,\n",
       " 'u': 156364,\n",
       " 'd': 53891,\n",
       " 'l': 95918,\n",
       " 't': 154659,\n",
       " 'a': 147859,\n",
       " ',': 14,\n",
       " 'c': 72457,\n",
       " 'n': 107050,\n",
       " 'g': 26734,\n",
       " 'b': 20017,\n",
       " 'q': 25995,\n",
       " '.': 43017,\n",
       " 'V': 3109,\n",
       " 'S': 3637,\n",
       " 'j': 904,\n",
       " 'v': 29395,\n",
       " 'I': 2593,\n",
       " 'h': 9568,\n",
       " 'E': 4449,\n",
       " 'H': 346,\n",
       " 'f': 12395,\n",
       " 'A': 4669,\n",
       " 'F': 1701,\n",
       " 'N': 3443,\n",
       " 'Q': 924,\n",
       " 'O': 891,\n",
       " 'D': 2054,\n",
       " 'T': 2266,\n",
       " '\\n': 5699,\n",
       " 'U': 1923,\n",
       " 'B': 436,\n",
       " 'R': 665,\n",
       " 'C': 1913,\n",
       " 'M': 2908,\n",
       " 'G': 268,\n",
       " 'P': 2849,\n",
       " 'J': 163,\n",
       " '-': 5,\n",
       " '2': 1,\n",
       " 'x': 7,\n",
       " '/EOF/': 6}"
      ]
     },
     "execution_count": 575,
     "metadata": {},
     "output_type": "execute_result"
    }
   ],
   "source": [
    "my_huffman.freq"
   ]
  }
 ],
 "metadata": {
  "kernelspec": {
   "display_name": "Python 3",
   "language": "python",
   "name": "python3"
  },
  "language_info": {
   "codemirror_mode": {
    "name": "ipython",
    "version": 3
   },
   "file_extension": ".py",
   "mimetype": "text/x-python",
   "name": "python",
   "nbconvert_exporter": "python",
   "pygments_lexer": "ipython3",
   "version": "3.7.8"
  }
 },
 "nbformat": 4,
 "nbformat_minor": 4
}
